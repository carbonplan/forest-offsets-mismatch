{
 "cells": [
  {
   "cell_type": "code",
   "execution_count": null,
   "id": "fece72ba",
   "metadata": {},
   "outputs": [],
   "source": [
    "import geopandas\n",
    "import intake\n",
    "\n",
    "M2_TO_ACRE = 4046.86"
   ]
  },
  {
   "cell_type": "code",
   "execution_count": null,
   "id": "487a4b4e",
   "metadata": {},
   "outputs": [],
   "source": [
    "cat = intake.open_catalog(\"sources.yaml\")"
   ]
  },
  {
   "cell_type": "markdown",
   "id": "3fe1457a",
   "metadata": {},
   "source": [
    "## VCM Data\n",
    "\n",
    "We emailed Avery Hill, the first author of\n",
    "[Low-elevation conifers in California’s Sierra Nevada are out of equilibrium with climate](https://doi.org/10.1093/pnasnexus/pgad004),\n",
    "and received a copy of the vegetation climat mismatch (VCM) data used in their study. These data are\n",
    "licensed under a CC-BY-SA license.\n",
    "\n",
    "We looked at future projections of VCM under SSP245, a moderately ambitious climate mitigation\n",
    "pathway. Those data were provided in vector format. We load the VCM data and then intersect it with\n",
    "project boundary data.\n"
   ]
  },
  {
   "cell_type": "code",
   "execution_count": null,
   "id": "4f7da3d9",
   "metadata": {},
   "outputs": [],
   "source": [
    "def transform_vcm_data(data):\n",
    "    \"\"\"repoject and set index of Hill et al., VCM data\"\"\"\n",
    "\n",
    "    crs = \"EPSG:26710\"\n",
    "\n",
    "    data = data.to_crs(crs)\n",
    "    data = data.set_index(\"Conifer_Classification\")\n",
    "    return data\n",
    "\n",
    "\n",
    "vcm_data = {\n",
    "    \"current\": transform_vcm_data(cat[\"current_vcm\"].read()),\n",
    "    \"future\": transform_vcm_data(cat[\"future_vcm\"].read()),\n",
    "}"
   ]
  },
  {
   "cell_type": "markdown",
   "id": "15150dc6",
   "metadata": {},
   "source": [
    "# Project Boundary data\n",
    "\n",
    "We downloaded project boundary data from\n",
    "[the Climate Action Reserve registry](https://thereserve2.apx.com/).\n",
    "\n",
    "Sierra Pacific initially listed several of the boundaries we examined as separate projects. As the\n",
    "projects moved through development, SPI combined several of these projects together. For instance, a\n",
    "note attached to project the Martell project (CAR1409) reads: \"Project combined with CAR1386,\n",
    "CAR1404, CAR1405, and CAR1406.\" The RBS 2019 project (CAR1381) has a similar history.\n",
    "\n",
    "Working with provisional project boundary data has practical implications for our analysis, because\n",
    "the final project boundaries (and therefore their intersection with the VCM data) might be different\n",
    "from the data we have available. Furthermore, we have strong evidence that the data we have is\n",
    "incomplete. According to paperwork for CAR1409, total project acreage is reported at 87,266 acres.\n",
    "The total area of the four shapefiles we downloaded, however, is only 75,823 acres. In this case, it\n",
    "appears we do not have access to project boundary data for a fifth project area named \"Blue.\" We\n",
    "account for this missing data in our analysis by making the maximally conservative assumption that\n",
    "100% of the unaccounted for acreage falls within the future habitable zone of confiers in the Sierra\n",
    "Nevada.\n",
    "\n",
    "Missingness also occurs in cases where a project has acreage that falls outside the study reigon of\n",
    "Hill et al., 2023. RBS 2019, for example, has at least two properties that have no intersection with\n",
    "the provided VCM data. Less than 20 percent of RBS 2019's acreage falls within the zombie forest\n",
    "study area. In these cases, we again make a maximally conservative assumption, assuming that confier\n",
    "habit will remain stable in all regions where the VCM metric was not explicitly calculated.\n",
    "\n",
    "For completeness, we should also note that there is a fifth project named Crane Valley (CAR1114)\n",
    "that also falls within the zombie forest study area. Like the other projects examined in this\n",
    "notebook, it is also owned by SPI. However, we excluded it from our analysis because the project\n",
    "appears to have been dormant since 2017 despite having mostly complete paperwork.\n"
   ]
  },
  {
   "cell_type": "code",
   "execution_count": null,
   "id": "93a77e25",
   "metadata": {},
   "outputs": [],
   "source": [
    "projects = {\n",
    "    \"rbs\": {\n",
    "        \"ninemile\": \"CAR1378\",\n",
    "        \"bull_creek\": \"CAR1379\",\n",
    "        \"big_bend\": \"CAR1380\",\n",
    "        \"rbs\": \"CAR1381\",\n",
    "    },\n",
    "    \"martell\": {\n",
    "        \"tiger\": \"CAR1386\",\n",
    "        \"schaads\": \"CAR1405\",\n",
    "        \"swamp\": \"CAR1406\",\n",
    "        \"westel\": \"CAR1404\",\n",
    "    },\n",
    "    \"mosquito\": {\"mosquito\": \"CAR1384\"},\n",
    "    \"cohasset\": {\"cohasset\": \"CAR1382\"},\n",
    "}"
   ]
  },
  {
   "cell_type": "code",
   "execution_count": null,
   "id": "32e4724d",
   "metadata": {},
   "outputs": [],
   "source": [
    "store = {}\n",
    "for label, d in projects.items():\n",
    "    project_gdf = geopandas.pd.concat(\n",
    "        [cat.boundary_data(opr_id=opr_id).read() for opr_id in d.values()]\n",
    "    ).dissolve()\n",
    "    project_area = (project_gdf.area / M2_TO_ACRE).iloc[0]\n",
    "    if label == \"martell\":\n",
    "        project_area = 87_266  # from `ARB_SPI_Martell_RP1_VerificationReport_V1-3_060322.pdf`\n",
    "    acres_per_class = {\n",
    "        k: geopandas.clip(vcm_gdf, project_gdf).area / M2_TO_ACRE for k, vcm_gdf in vcm_data.items()\n",
    "    }\n",
    "    print()\n",
    "    frac_vulnerable = {\n",
    "        k: vcm_acres.filter(like=\"VCM\").sum() / project_area\n",
    "        for k, vcm_acres in acres_per_class.items()\n",
    "    }\n",
    "    frac_examined = acres_per_class[\"future\"].sum() / project_area\n",
    "\n",
    "    print(\n",
    "        f\"{frac_examined * 100:.2f}% of {label} acreage falls within Hill et al. 2023 study region\"\n",
    "    )\n",
    "    store[label] = frac_vulnerable\n",
    "display(store)"
   ]
  },
  {
   "cell_type": "markdown",
   "id": "98b302c5",
   "metadata": {},
   "source": [
    "# Reforestation project\n",
    "\n",
    "We identified one reforestation project within the study area, the Camp refo (CAR1491).\n",
    "Reforestation of the region with confier species is especially risky, as pointed out by Hill et al.,\n",
    "2023:\n",
    "\n",
    "> Most notably, in a VCM area, efforts to reforest after a fire or other disturbance with the same\n",
    "> vegetation type as before are unlikely to be successful. Post-disturbance restoration needs to\n",
    "> take into account the species mix and density that can currently be supported, but also the kinds\n",
    "> of vegetation that future conditions are likely to support. This requires managers grappling with\n",
    "> uncertainty in climate projections as they plan the future of the lands they manage; accessible\n",
    "> tools that can synthesize climate projections with species distribution modeling can facilitate\n",
    "> this planning process.\n",
    "\n",
    "This particular project plans to replant conifer species in a region that is projected to be\n",
    "severely mismatch with the habitat needs of those species.\n"
   ]
  },
  {
   "cell_type": "code",
   "execution_count": null,
   "id": "09199929",
   "metadata": {},
   "outputs": [],
   "source": [
    "# have to read raw file, as can't quite figure out how to pass kwargs to intake_geopandas plugin\n",
    "camp_refor = cat.boundary_data(opr_id=\"CAR1491\", geopandas_kwargs={\"layer\": \"Project_Area\"}).read()\n",
    "camp_acres = geopandas.clip(vcm_data[\"future\"], camp_refor).area / M2_TO_ACRE\n",
    "\n",
    "total_acres = max(\n",
    "    camp_acres.sum(), 12_713\n",
    ")  # must be at least as large as listing doc acreage of 12,713\n",
    "display(camp_acres / total_acres)"
   ]
  },
  {
   "cell_type": "markdown",
   "id": "a2515fed",
   "metadata": {},
   "source": [
    "### Crediting\n",
    "\n",
    "Many of the projects have been issued registry offset credits. However, those credits have yet to be\n",
    "converted in ARB offset credits, as none of the projects discussed here yet appear in the official\n",
    "ARB\n",
    "[issuance table](https://ww2.arb.ca.gov/our-work/programs/compliance-offset-program/arb-offset-credit-issuance)\n"
   ]
  },
  {
   "cell_type": "code",
   "execution_count": null,
   "id": "92208afd",
   "metadata": {},
   "outputs": [],
   "source": [
    "crediting = {\n",
    "    \"rbs\": 1_925_806,\n",
    "    \"martell\": 293_284,\n",
    "    \"mosquito\": 366_335,\n",
    "    \"cohasset\": 97_189,\n",
    "}\n",
    "display(sum(crediting.values()))"
   ]
  }
 ],
 "metadata": {
  "kernelspec": {
   "display_name": "Python 3 (ipykernel)",
   "language": "python",
   "name": "python3"
  },
  "language_info": {
   "codemirror_mode": {
    "name": "ipython",
    "version": 3
   },
   "file_extension": ".py",
   "mimetype": "text/x-python",
   "name": "python",
   "nbconvert_exporter": "python",
   "pygments_lexer": "ipython3",
   "version": "3.9.6"
  }
 },
 "nbformat": 4,
 "nbformat_minor": 5
}
